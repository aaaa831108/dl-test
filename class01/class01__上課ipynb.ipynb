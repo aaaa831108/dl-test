{
  "nbformat": 4,
  "nbformat_minor": 0,
  "metadata": {
    "colab": {
      "name": "class01._上課ipynb",
      "provenance": [],
      "collapsed_sections": [],
      "include_colab_link": true
    },
    "kernelspec": {
      "name": "python3",
      "display_name": "Python 3"
    },
    "language_info": {
      "name": "python"
    },
    "accelerator": "GPU",
    "gpuClass": "standard"
  },
  "cells": [
    {
      "cell_type": "markdown",
      "metadata": {
        "id": "view-in-github",
        "colab_type": "text"
      },
      "source": [
        "<a href=\"https://colab.research.google.com/github/aaaa831108/dl-test/blob/main/class01/class01__%E4%B8%8A%E8%AA%B2ipynb.ipynb\" target=\"_parent\"><img src=\"https://colab.research.google.com/assets/colab-badge.svg\" alt=\"Open In Colab\"/></a>"
      ]
    },
    {
      "cell_type": "markdown",
      "source": [
        "# Pytorch Basics"
      ],
      "metadata": {
        "id": "YKVfzpqnphJF"
      }
    },
    {
      "cell_type": "code",
      "source": [
        "import torch\n",
        "import numpy as np"
      ],
      "metadata": {
        "id": "YBZKbMxKpfZL"
      },
      "execution_count": 1,
      "outputs": []
    },
    {
      "cell_type": "code",
      "source": [
        "tensor = torch.rand(2,3)\n",
        "matrix = np.random.rand(2,3)\n",
        "print(f\"Tensor:\\n {tensor}\")\n",
        "print(f\"Matrix:\\n {matrix}\")"
      ],
      "metadata": {
        "id": "So96nK2Rp20v",
        "colab": {
          "base_uri": "https://localhost:8080/"
        },
        "outputId": "0c3806c5-fc01-43fc-bb4a-119e89309824"
      },
      "execution_count": 2,
      "outputs": [
        {
          "output_type": "stream",
          "name": "stdout",
          "text": [
            "Tensor:\n",
            " tensor([[0.2134, 0.7716, 0.4598],\n",
            "        [0.8600, 0.7039, 0.3989]])\n",
            "Matrix:\n",
            " [[0.46766501 0.82519703 0.86475925]\n",
            " [0.47253214 0.66658831 0.70101085]]\n"
          ]
        }
      ]
    },
    {
      "cell_type": "code",
      "source": [
        "tensor = torch.zeros(2,3)\n",
        "matrix = np.zeros((2,3))\n",
        "print(f\"Tensor:\\n {tensor}\")\n",
        "print(f\"Matrix:\\n {matrix}\")"
      ],
      "metadata": {
        "id": "BhEDziwjpcU8",
        "colab": {
          "base_uri": "https://localhost:8080/"
        },
        "outputId": "b8c68375-fa29-446e-ccc7-a49a51cdbc5c"
      },
      "execution_count": 3,
      "outputs": [
        {
          "output_type": "stream",
          "name": "stdout",
          "text": [
            "Tensor:\n",
            " tensor([[0., 0., 0.],\n",
            "        [0., 0., 0.]])\n",
            "Matrix:\n",
            " [[0. 0. 0.]\n",
            " [0. 0. 0.]]\n"
          ]
        }
      ]
    },
    {
      "cell_type": "code",
      "source": [
        "tensor = torch.ones(2,3)\n",
        "matrix = np.ones((2,3))\n",
        "print(f\"Tensor:\\n {tensor}\")\n",
        "print(f\"Matrix:\\n {matrix}\")"
      ],
      "metadata": {
        "colab": {
          "base_uri": "https://localhost:8080/"
        },
        "id": "l8B6077ktgMj",
        "outputId": "786f8dcb-a334-447e-d65f-a609859018e1"
      },
      "execution_count": 4,
      "outputs": [
        {
          "output_type": "stream",
          "name": "stdout",
          "text": [
            "Tensor:\n",
            " tensor([[1., 1., 1.],\n",
            "        [1., 1., 1.]])\n",
            "Matrix:\n",
            " [[1. 1. 1.]\n",
            " [1. 1. 1.]]\n"
          ]
        }
      ]
    },
    {
      "cell_type": "code",
      "source": [
        "print(f\"Tensor:\\n {tensor.dtype}\")\n",
        "print(f\"Matrix:\\n {matrix.dtype}\")"
      ],
      "metadata": {
        "colab": {
          "base_uri": "https://localhost:8080/"
        },
        "id": "Lh8wntDetsLQ",
        "outputId": "0aa123f0-150a-4675-c7d3-4e58f5b51151"
      },
      "execution_count": 14,
      "outputs": [
        {
          "output_type": "stream",
          "name": "stdout",
          "text": [
            "Tensor:\n",
            " torch.float32\n",
            "Matrix:\n",
            " float64\n"
          ]
        }
      ]
    },
    {
      "cell_type": "code",
      "source": [
        "print(f\"Tensor:\\n {tensor.size()}\")\n",
        "print(f\"Tensor:\\n {tensor.shape}\")\n",
        "print(f\"Matrix:\\n {matrix.shape}\")"
      ],
      "metadata": {
        "colab": {
          "base_uri": "https://localhost:8080/"
        },
        "id": "LfkEtQpbtwpG",
        "outputId": "4eadb34c-dc10-4879-8bd4-dc6273814917"
      },
      "execution_count": 11,
      "outputs": [
        {
          "output_type": "stream",
          "name": "stdout",
          "text": [
            "Tensor:\n",
            " torch.Size([2, 3])\n",
            "Tensor:\n",
            " torch.Size([2, 3])\n",
            "Matrix:\n",
            " (2, 3)\n"
          ]
        }
      ]
    },
    {
      "cell_type": "code",
      "source": [
        "# list to torch\n",
        "tensor = torch.tensor([2.3, 1.2, 5.7])\n",
        "print(f\"Tensor:\\n {tensor.size()}\")\n",
        "\n",
        "# list to numpy\n",
        "matrix = np.array([2.3, 1.2, 5.7])\n",
        "print(f\"Matrix:\\n {matrix.shape}\")"
      ],
      "metadata": {
        "colab": {
          "base_uri": "https://localhost:8080/"
        },
        "id": "TJGSeu0kuivm",
        "outputId": "09913331-d270-4642-bbf4-fd9172a35152"
      },
      "execution_count": 15,
      "outputs": [
        {
          "output_type": "stream",
          "name": "stdout",
          "text": [
            "Tensor:\n",
            " torch.Size([3])\n",
            "Matrix:\n",
            " (3,)\n"
          ]
        }
      ]
    },
    {
      "cell_type": "code",
      "source": [
        "# numpy <=> torch\n",
        "tensor = torch.tensor([1, 2, 3])\n",
        "matrix = np.array([1, 2, 3])\n",
        "print(torch.from_numpy(matrix))\n",
        "print(tensor.numpy())"
      ],
      "metadata": {
        "colab": {
          "base_uri": "https://localhost:8080/"
        },
        "id": "123bMdWuv0lD",
        "outputId": "b3018aed-afac-4abd-924e-db344e99b62c"
      },
      "execution_count": 16,
      "outputs": [
        {
          "output_type": "stream",
          "name": "stdout",
          "text": [
            "tensor([1, 2, 3])\n",
            "[1 2 3]\n"
          ]
        }
      ]
    },
    {
      "cell_type": "code",
      "source": [
        "# call by reference\n",
        "tensor = torch.tensor([1, 2, 3])\n",
        "matrix = tensor.numpy()\n",
        "\n",
        "tensor += 1\n",
        "print(tensor)\n",
        "print(matrix)"
      ],
      "metadata": {
        "colab": {
          "base_uri": "https://localhost:8080/"
        },
        "id": "8XDVRzqdz4Rq",
        "outputId": "af4f59bc-82be-42c9-bf08-ec7ca284df2c"
      },
      "execution_count": 17,
      "outputs": [
        {
          "output_type": "stream",
          "name": "stdout",
          "text": [
            "tensor([2, 3, 4])\n",
            "[2 3 4]\n"
          ]
        }
      ]
    },
    {
      "cell_type": "code",
      "source": [
        "# operator \n",
        "t1 = torch.tensor([2.3, 1.2, 5.7])\n",
        "t2 = torch.tensor([3.2, 2.8, 7.8])\n",
        "print(torch.add(t1, t2)) # t1 + t2\n",
        "print(torch.add(t1, t2)) # t1 - t2\n",
        "print(torch.mul(t1, t2)) # t1 * t2\n",
        "print(torch.div(t1, t2)) # t1 / t2"
      ],
      "metadata": {
        "colab": {
          "base_uri": "https://localhost:8080/"
        },
        "id": "7a6i_iIEurKD",
        "outputId": "5354e08e-3970-49e1-81ea-ae767a974828"
      },
      "execution_count": 18,
      "outputs": [
        {
          "output_type": "stream",
          "name": "stdout",
          "text": [
            "tensor([ 5.5000,  4.0000, 13.5000])\n",
            "tensor([ 5.5000,  4.0000, 13.5000])\n",
            "tensor([ 7.3600,  3.3600, 44.4600])\n",
            "tensor([0.7188, 0.4286, 0.7308])\n"
          ]
        }
      ]
    },
    {
      "cell_type": "code",
      "source": [
        "# slice\n",
        "tensor = torch.rand(5,3)\n",
        "print(tensor)\n",
        "print(tensor[:,1:3])\n",
        "print(tensor[1,1].item())"
      ],
      "metadata": {
        "colab": {
          "base_uri": "https://localhost:8080/"
        },
        "id": "yX-lEmJJvKh-",
        "outputId": "8282b64d-f3a0-48d7-ab72-a5fd920716c2"
      },
      "execution_count": 19,
      "outputs": [
        {
          "output_type": "stream",
          "name": "stdout",
          "text": [
            "tensor([[0.0904, 0.1989, 0.4505],\n",
            "        [0.5080, 0.7239, 0.4966],\n",
            "        [0.8924, 0.2519, 0.2047],\n",
            "        [0.2394, 0.6856, 0.8537],\n",
            "        [0.6466, 0.0044, 0.9072]])\n",
            "tensor([[0.1989, 0.4505],\n",
            "        [0.7239, 0.4966],\n",
            "        [0.2519, 0.2047],\n",
            "        [0.6856, 0.8537],\n",
            "        [0.0044, 0.9072]])\n",
            "0.7239065766334534\n"
          ]
        }
      ]
    },
    {
      "cell_type": "code",
      "source": [
        "tensor[1,1].item?"
      ],
      "metadata": {
        "colab": {
          "base_uri": "https://localhost:8080/"
        },
        "id": "sRsg040CXr_M",
        "outputId": "40669442-ac80-4b7d-8da4-2f4a34fa027a"
      },
      "execution_count": 24,
      "outputs": [
        {
          "output_type": "stream",
          "name": "stdout",
          "text": [
            "Object `item` not found.\n"
          ]
        }
      ]
    },
    {
      "cell_type": "code",
      "source": [
        "# view\n",
        "tensor = torch.rand(2,6)\n",
        "print(tensor)\n",
        "print(tensor.view(3,4))\n",
        "print(tensor.view(12))\n",
        "print(tensor.view(12,1))\n",
        "print(tensor.view(1,12))\n",
        "print(tensor.view(-1,3))"
      ],
      "metadata": {
        "colab": {
          "base_uri": "https://localhost:8080/"
        },
        "id": "N7KgWhiXvZGO",
        "outputId": "2650dfad-7691-4c53-dbb8-634640b3e8a1"
      },
      "execution_count": null,
      "outputs": [
        {
          "output_type": "stream",
          "name": "stdout",
          "text": [
            "tensor([[0.9594, 0.3548, 0.9751, 0.5854, 0.6431, 0.8459],\n",
            "        [0.8374, 0.4420, 0.2574, 0.1708, 0.4292, 0.1682]])\n",
            "tensor([[0.9594, 0.3548, 0.9751, 0.5854],\n",
            "        [0.6431, 0.8459, 0.8374, 0.4420],\n",
            "        [0.2574, 0.1708, 0.4292, 0.1682]])\n",
            "tensor([0.9594, 0.3548, 0.9751, 0.5854, 0.6431, 0.8459, 0.8374, 0.4420, 0.2574,\n",
            "        0.1708, 0.4292, 0.1682])\n",
            "tensor([[0.9594],\n",
            "        [0.3548],\n",
            "        [0.9751],\n",
            "        [0.5854],\n",
            "        [0.6431],\n",
            "        [0.8459],\n",
            "        [0.8374],\n",
            "        [0.4420],\n",
            "        [0.2574],\n",
            "        [0.1708],\n",
            "        [0.4292],\n",
            "        [0.1682]])\n",
            "tensor([[0.9594, 0.3548, 0.9751, 0.5854, 0.6431, 0.8459, 0.8374, 0.4420, 0.2574,\n",
            "         0.1708, 0.4292, 0.1682]])\n",
            "tensor([[0.9594, 0.3548, 0.9751],\n",
            "        [0.5854, 0.6431, 0.8459],\n",
            "        [0.8374, 0.4420, 0.2574],\n",
            "        [0.1708, 0.4292, 0.1682]])\n"
          ]
        }
      ]
    },
    {
      "cell_type": "code",
      "source": [
        "# GPU\n",
        "print(torch.cuda.is_available())\n",
        "# if torch.cuda.is_available():\n",
        "#   device = torch.device(\"cuda\")\n",
        "\n",
        "device = torch.device(\"cuda\" if torch.cuda.is_available() else \"cpu\")\n",
        "\n",
        "x = torch.rand(3,2).to(device)\n",
        "print(x)\n",
        "x = x.to(\"cpu\")\n",
        "print(x)"
      ],
      "metadata": {
        "colab": {
          "base_uri": "https://localhost:8080/"
        },
        "id": "1qBB_1bDzhYU",
        "outputId": "74269d20-4027-4f66-c7cd-8e71b7bdd8a2"
      },
      "execution_count": null,
      "outputs": [
        {
          "output_type": "stream",
          "name": "stdout",
          "text": [
            "True\n",
            "tensor([[0.1159, 0.0656],\n",
            "        [0.9751, 0.0762],\n",
            "        [0.6860, 0.5650]], device='cuda:0')\n",
            "tensor([[0.1159, 0.0656],\n",
            "        [0.9751, 0.0762],\n",
            "        [0.6860, 0.5650]])\n"
          ]
        }
      ]
    }
  ]
}